{
 "cells": [
  {
   "cell_type": "code",
   "execution_count": 9,
   "metadata": {
    "scrolled": false
   },
   "outputs": [
    {
     "name": "stdout",
     "output_type": "stream",
     "text": [
      "ORIGINAL DATA\n",
      "   Age  Score\n",
      "0   15    115\n",
      "1   26     97\n",
      "2   10     93\n",
      "3    9    106\n",
      "4   15    132\n",
      "5   20    133\n",
      "6   18     98\n",
      "7   11    135\n",
      "8    8    154\n",
      "9   20    119\n",
      "\n",
      "\n",
      "CORRELATION:             Age     Score\n",
      "Age    1.000000 -0.317687\n",
      "Score -0.317687  1.000000\n",
      "\n",
      "\n",
      "CORRELATION:             Age     Score\n",
      "Age    1.000000 -0.237809\n",
      "Score -0.237809  1.000000\n"
     ]
    }
   ],
   "source": [
    "import pandas as pd\n",
    "data={'Age':[15,26,10,9,15,20,18,11,8,20],'Score':[115,97,93,106,132,133,98,135,154,119]}\n",
    "df=pd.DataFrame(data)\n",
    "print(\"ORIGINAL DATA\")\n",
    "print(df)\n",
    "correlation=df.corr(method='pearson')\n",
    "correlation1=df.corr(method='spearman')\n",
    "print(\"\\n\")\n",
    "print(\"CORRELATION:\",correlation)\n",
    "print(\"\\n\")\n",
    "print(\"CORRELATION:\",correlation1)\n"
   ]
  },
  {
   "cell_type": "code",
   "execution_count": 10,
   "metadata": {
    "scrolled": true
   },
   "outputs": [
    {
     "name": "stdout",
     "output_type": "stream",
     "text": [
      "ORIGINAL DATA\n",
      "   STUMPS  BETTLE LARVAE\n",
      "0       2             13\n",
      "1       2             35\n",
      "2       1             22\n",
      "3       3             39\n",
      "4       4             60\n",
      "5       1             36\n",
      "6       5             86\n",
      "7       3             50\n",
      "8       1             38\n",
      "9       2             54\n",
      "\n",
      "\n",
      "CORRELATION:                  STUMPS  BETTLE LARVAE\n",
      "STUMPS         1.000000       0.792123\n",
      "BETTLE LARVAE  0.792123       1.000000\n",
      "\n",
      "\n",
      "CORRELATION:                  STUMPS  BETTLE LARVAE\n",
      "STUMPS         1.000000       0.723026\n",
      "BETTLE LARVAE  0.723026       1.000000\n"
     ]
    }
   ],
   "source": [
    "import pandas as pd\n",
    "data={'STUMPS':[2,2,1,3,4,1,5,3,1,2],'BETTLE LARVAE':[13,35,22,39,60,36,86,50,38,54]}\n",
    "df=pd.DataFrame(data)\n",
    "print(\"ORIGINAL DATA\")\n",
    "print(df)\n",
    "correlation=df.corr(method='pearson')\n",
    "correlation1=df.corr(method='spearman')\n",
    "print(\"\\n\")\n",
    "print(\"CORRELATION:\",correlation)\n",
    "print(\"\\n\")\n",
    "print(\"CORRELATION:\",correlation1)\n"
   ]
  },
  {
   "cell_type": "code",
   "execution_count": 11,
   "metadata": {},
   "outputs": [
    {
     "name": "stdout",
     "output_type": "stream",
     "text": [
      "ORIGINAL DATA\n",
      "   MILES  SPEED\n",
      "0     20     34\n",
      "1     30     48\n",
      "2     40     35\n",
      "3     50     43\n",
      "4     60     54\n",
      "\n",
      "\n",
      "CORRELATION:           MILES     SPEED\n",
      "MILES  1.000000  0.649039\n",
      "SPEED  0.649039  1.000000\n",
      "\n",
      "\n",
      "Correlation:        MILES  SPEED\n",
      "MILES    1.0    0.7\n",
      "SPEED    0.7    1.0\n"
     ]
    }
   ],
   "source": [
    "import pandas as pd\n",
    "data={'MILES':[20,30,40,50,60],'SPEED':[34,48,35,43,54]}\n",
    "df=pd.DataFrame(data)\n",
    "print(\"ORIGINAL DATA\")\n",
    "print(df)\n",
    "correlation=df.corr(method='pearson')\n",
    "correlation1=df.corr(method='spearman')\n",
    "print(\"\\n\")\n",
    "print(\"CORRELATION:\",correlation)\n",
    "print(\"\\n\")\n",
    "print(\"Correlation:\",correlation1)\n"
   ]
  },
  {
   "cell_type": "code",
   "execution_count": 1,
   "metadata": {},
   "outputs": [
    {
     "name": "stdout",
     "output_type": "stream",
     "text": [
      "Spearman correlation: -0.733\n"
     ]
    }
   ],
   "source": [
    "from sklearn.datasets import load_breast_cancer\n",
    "from scipy.stats import spearmanr\n",
    "data=load_breast_cancer()\n",
    "data1=data.data[:,0]\n",
    "data2=data.target\n",
    "corr,_=spearmanr(data1,data2)\n",
    "print ('Spearman correlation: %.3f' % corr)"
   ]
  },
  {
   "cell_type": "code",
   "execution_count": 2,
   "metadata": {},
   "outputs": [
    {
     "name": "stdout",
     "output_type": "stream",
     "text": [
      "Pearsons correlation: -0.730\n"
     ]
    }
   ],
   "source": [
    "from sklearn.datasets import load_breast_cancer\n",
    "from scipy.stats import pearsonr\n",
    "data=load_breast_cancer()\n",
    "data1=data.data[:,0]\n",
    "data2=data.target\n",
    "corr,_=pearsonr(data1,data2)\n",
    "print ('Pearsons correlation: %.3f' % corr)"
   ]
  },
  {
   "cell_type": "code",
   "execution_count": 3,
   "metadata": {},
   "outputs": [
    {
     "name": "stdout",
     "output_type": "stream",
     "text": [
      "Pearson correlation: -0.388\n"
     ]
    }
   ],
   "source": [
    "from sklearn.datasets import load_boston\n",
    "from scipy.stats import pearsonr\n",
    "data=load_boston()\n",
    "data1=data.data[:,0]\n",
    "data2=data.target\n",
    "corr,_=pearsonr(data1,data2)\n",
    "print ('Pearson correlation: %.3f' % corr)"
   ]
  },
  {
   "cell_type": "code",
   "execution_count": 4,
   "metadata": {},
   "outputs": [
    {
     "name": "stdout",
     "output_type": "stream",
     "text": [
      "Spearman correlation: -0.559\n"
     ]
    }
   ],
   "source": [
    "from sklearn.datasets import load_boston\n",
    "from scipy.stats import spearmanr\n",
    "data=load_boston()\n",
    "data1=data.data[:,0]\n",
    "data2=data.target\n",
    "corr,_=spearmanr(data1,data2)\n",
    "print ('Spearman correlation: %.3f' % corr)"
   ]
  },
  {
   "cell_type": "code",
   "execution_count": null,
   "metadata": {},
   "outputs": [],
   "source": []
  }
 ],
 "metadata": {
  "kernelspec": {
   "display_name": "Python 3",
   "language": "python",
   "name": "python3"
  },
  "language_info": {
   "codemirror_mode": {
    "name": "ipython",
    "version": 3
   },
   "file_extension": ".py",
   "mimetype": "text/x-python",
   "name": "python",
   "nbconvert_exporter": "python",
   "pygments_lexer": "ipython3",
   "version": "3.7.6"
  }
 },
 "nbformat": 4,
 "nbformat_minor": 4
}
