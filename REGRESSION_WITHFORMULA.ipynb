{
 "cells": [
  {
   "cell_type": "code",
   "execution_count": 54,
   "metadata": {},
   "outputs": [
    {
     "data": {
      "text/plain": [
       "<matplotlib.collections.PathCollection at 0xbdd67c8>"
      ]
     },
     "execution_count": 54,
     "metadata": {},
     "output_type": "execute_result"
    },
    {
     "data": {
      "image/png": "[encoded data removed]",
      "text/plain": [
       "<Figure size 432x288 with 1 Axes>"
      ]
     },
     "metadata": {
      "needs_background": "light"
     },
     "output_type": "display_data"
    }
   ],
   "source": [
    "import numpy as np\n",
    "import pandas as pd\n",
    "import matplotlib \n",
    "import matplotlib.pyplot as plt\n",
    "import sklearn\n",
    "from sklearn import linear_model\n",
    "%matplotlib inline\n",
    "xs=[501,740,749,810,903,1203,1443,1529,1603,1676,1903,1953,2103,3775]\n",
    "ys=[19.1,26.85,30,32.22,35,33,55.56,48.5,48,73,70,68,105,128]\n",
    "def mean(x):\n",
    "    sum = 0.0\n",
    "    for i in x:\n",
    "         sum += i\n",
    "    return sum / len(x)\n",
    "def samplevariance(x):\n",
    "    sumv = 0.0\n",
    "    for i in x:\n",
    "         sumv += (i - mean(x))**2\n",
    "    return sumv\n",
    "\n",
    "def pearson_def(x, y):\n",
    "    scorex = []\n",
    "    scorey = []\n",
    "    for i in x: \n",
    "        scorex.append(i - mean(x)) \n",
    "    for j in y:\n",
    "        scorey.append(j - mean(y))\n",
    "        return (sum([i*j for i,j in zip(scorex,scorey)]))    \n",
    "               \n",
    "def Slope(x,y):\n",
    "    slope = (pearson_def(x,y))/(samplevariance(x))\n",
    "    return slope\n",
    "def Intercept(x,y):\n",
    "    intercept=mean(y)-(slope(x,y)*mean(x))\n",
    "    return intercept\n",
    "m=slope(xs,ys)\n",
    "c=intercept(xs,ys)\n",
    "plt.xlabel(\"BUILT-UP-AREA\")\n",
    "plt.ylabel(\"PRICE\")\n",
    "plt.scatter(xs,ys)"
   ]
  },
  {
   "cell_type": "code",
   "execution_count": 52,
   "metadata": {},
   "outputs": [
    {
     "name": "stdout",
     "output_type": "stream",
     "text": [
      "SLOPE : 0.035577929493154976\n",
      "INTERCEPT: 2.069391068464242\n"
     ]
    },
    {
     "data": {
      "text/plain": [
       "(14, 14)"
      ]
     },
     "execution_count": 52,
     "metadata": {},
     "output_type": "execute_result"
    }
   ],
   "source": [
    "print(\"SLOPE :\",m)\n",
    "print(\"INTERCEPT:\",c)\n",
    "len(xs),len(ys)"
   ]
  },
  {
   "cell_type": "code",
   "execution_count": 37,
   "metadata": {},
   "outputs": [
    {
     "name": "stdout",
     "output_type": "stream",
     "text": [
      "MEAN-BUILT-UP-AREA(in sqr.ft): 1492.2142857142858\n"
     ]
    }
   ],
   "source": [
    "print(\"MEAN-BUILT-UP-AREA(in sqr.ft):\",mean(xs))\n"
   ]
  },
  {
   "cell_type": "code",
   "execution_count": 38,
   "metadata": {},
   "outputs": [
    {
     "name": "stdout",
     "output_type": "stream",
     "text": [
      "MEAN-PRICE(in lakhs): 55.159285714285716\n"
     ]
    }
   ],
   "source": [
    "print(\"MEAN-PRICE(in lakhs):\",mean(ys))\n"
   ]
  },
  {
   "cell_type": "code",
   "execution_count": 39,
   "metadata": {},
   "outputs": [
    {
     "name": "stdout",
     "output_type": "stream",
     "text": [
      "REGRESSION EQUATION:y= 0.035577929493154976 x + 2.069391068464242\n"
     ]
    }
   ],
   "source": [
    "print(\"REGRESSION EQUATION:y=\",m,\"x +\",c)"
   ]
  },
  {
   "cell_type": "code",
   "execution_count": 40,
   "metadata": {},
   "outputs": [
    {
     "name": "stdout",
     "output_type": "stream",
     "text": [
      "PRICE REQUIRED FOR  1000 sqft is : 37.64732056161922 in lakhs\n"
     ]
    }
   ],
   "source": [
    "x=1000\n",
    "ys=m*x+c\n",
    "print(\"PRICE REQUIRED FOR  1000 sqft is :\",ys,\"in lakhs\")"
   ]
  },
  {
   "cell_type": "code",
   "execution_count": 58,
   "metadata": {},
   "outputs": [
    {
     "data": {
      "image/png": "[encoded data removed]",
      "text/plain": [
       "<Figure size 432x288 with 1 Axes>"
      ]
     },
     "metadata": {
      "needs_background": "light"
     },
     "output_type": "display_data"
    }
   ],
   "source": [
    "max_xval = np.max(xs) + 100\n",
    "min_xval = np.min(ys) - 100\n",
    "reg_x = np.linspace(min_xval, max_xval, 1000)\n",
    "reg_y = c + m * reg_x \n",
    "plt.plot(reg_x,reg_y,label='REGRESSION') \n",
    "plt.xlabel(\"BUILT-UP-AREA\")\n",
    "plt.ylabel(\"PRICE\")\n",
    "plt.scatter(xs,ys)\n",
    "plt.legend()\n",
    "plt.show()"
   ]
  },
  {
   "cell_type": "code",
   "execution_count": null,
   "metadata": {},
   "outputs": [],
   "source": []
  },
  {
   "cell_type": "code",
   "execution_count": 6,
   "metadata": {},
   "outputs": [],
   "source": []
  },
  {
   "cell_type": "code",
   "execution_count": 7,
   "metadata": {
    "collapsed": true
   },
   "outputs": [
    {
     "data": {
      "text/plain": [
       "34.754054350098706"
      ]
     },
     "execution_count": 7,
     "metadata": {},
     "output_type": "execute_result"
    }
   ],
   "source": []
  },
  {
   "cell_type": "code",
   "execution_count": 8,
   "metadata": {
    "collapsed": true
   },
   "outputs": [
    {
     "data": {
      "text/plain": [
       "0.894873972064554"
      ]
     },
     "execution_count": 8,
     "metadata": {},
     "output_type": "execute_result"
    }
   ],
   "source": []
  },
  {
   "cell_type": "code",
   "execution_count": 9,
   "metadata": {
    "collapsed": true
   },
   "outputs": [
    {
     "data": {
      "text/plain": [
       "[<matplotlib.lines.Line2D at 0xb780248>]"
      ]
     },
     "execution_count": 9,
     "metadata": {},
     "output_type": "execute_result"
    },
    {
     "data": {
      "image/png": "[encoded data removed]",
      "text/plain": [
       "<Figure size 432x288 with 1 Axes>"
      ]
     },
     "metadata": {
      "needs_background": "light"
     },
     "output_type": "display_data"
    }
   ],
   "source": []
  },
  {
   "cell_type": "code",
   "execution_count": null,
   "metadata": {},
   "outputs": [],
   "source": []
  },
  {
   "cell_type": "code",
   "execution_count": null,
   "metadata": {},
   "outputs": [],
   "source": []
  },
  {
   "cell_type": "code",
   "execution_count": null,
   "metadata": {},
   "outputs": [],
   "source": []
  }
 ],
 "metadata": {
  "kernelspec": {
   "display_name": "Python 3",
   "language": "python",
   "name": "python3"
  },
  "language_info": {
   "codemirror_mode": {
    "name": "ipython",
    "version": 3
   },
   "file_extension": ".py",
   "mimetype": "text/x-python",
   "name": "python",
   "nbconvert_exporter": "python",
   "pygments_lexer": "ipython3",
   "version": "3.7.6"
  }
 },
 "nbformat": 4,
 "nbformat_minor": 4
}
