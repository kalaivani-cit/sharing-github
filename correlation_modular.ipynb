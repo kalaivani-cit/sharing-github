{
 "cells": [
  {
   "cell_type": "code",
   "execution_count": 43,
   "metadata": {},
   "outputs": [
    {
     "name": "stdout",
     "output_type": "stream",
     "text": [
      "Predicting_mental_ability\n",
      "Correlation is  -0.31768715083702\n"
     ]
    }
   ],
   "source": [
    "import math\n",
    "a=[15,26,10,9,15,20,18,11,8,20]\n",
    "b=[115,97,93,106,132,133,98,135,154,119]\n",
    "def mean(x):\n",
    "    sum = 0.0\n",
    "    for i in x:\n",
    "         sum += i\n",
    "    return sum / len(x) \n",
    "    \n",
    "def sampleStandardDeviation(x):\n",
    "    sumv = 0.0\n",
    "    for i in x:\n",
    "         sumv += (i - mean(x))**2\n",
    "    return math.sqrt(sumv/(len(x)-1))\n",
    "\n",
    "def pearson_def(x, y):\n",
    "    scorex = []\n",
    "    scorey = []\n",
    "    for i in x: \n",
    "        scorex.append((i - mean(x))/sampleStandardDeviation(x)) \n",
    "    for j in y:\n",
    "        scorey.append((j - mean(y))/sampleStandardDeviation(y))   \n",
    "    return (sum([i*j for i,j in zip(scorex,scorey)]))/(len(x)-1)\n",
    "print (\"Predicting_mental_ability\")\n",
    "print(\"Correlation is \",pearson_def(a,b))"
   ]
  },
  {
   "cell_type": "code",
   "execution_count": 42,
   "metadata": {},
   "outputs": [
    {
     "name": "stdout",
     "output_type": "stream",
     "text": [
      "TREE STUMPS AND BEETLE LARVAE\n",
      "Correlation is  0.7921229490227646\n"
     ]
    }
   ],
   "source": [
    "import math\n",
    "a=[2,2,1,3,4,1,5,3,1,2]\n",
    "b=[13,35,22,39,60,36,86,50,38,54]\n",
    "def mean(x):\n",
    "    sum = 0.0\n",
    "    for i in x:\n",
    "         sum += i\n",
    "    return sum / len(x) \n",
    "    \n",
    "def sampleStandardDeviation(x):\n",
    "    sumv = 0.0\n",
    "    for i in x:\n",
    "         sumv += (i - mean(x))**2\n",
    "    return math.sqrt(sumv/(len(x)-1))\n",
    "\n",
    "def correlation_def(x, y):\n",
    "\n",
    "    scorex = []\n",
    "    scorey = []\n",
    "\n",
    "    for i in x: \n",
    "        scorex.append((i - mean(x))/sampleStandardDeviation(x)) \n",
    "\n",
    "    for j in y:\n",
    "        scorey.append((j - mean(y))/sampleStandardDeviation(y))   \n",
    "    return (sum([i*j for i,j in zip(scorex,scorey)]))/(len(x)-1)\n",
    "print (\"TREE STUMPS AND BEETLE LARVAE\")\n",
    "print(\"Correlation is \",correlation_def(a,b))"
   ]
  },
  {
   "cell_type": "code",
   "execution_count": 46,
   "metadata": {},
   "outputs": [
    {
     "name": "stdout",
     "output_type": "stream",
     "text": [
      "SPEED AND GAS MILEAGE\n",
      "Correlation is  0.6490390738582484\n"
     ]
    }
   ],
   "source": [
    "import math\n",
    "a=[20,30,40,50,60]\n",
    "b=[34,48,35,43,54]\n",
    "\n",
    "def mean(x):\n",
    "    sum = 0.0\n",
    "    for i in x:\n",
    "         sum += i\n",
    "    return sum / len(x) \n",
    "    \n",
    "def sampleStandardDeviation(x):\n",
    "    sumv = 0.0\n",
    "    for i in x:\n",
    "         sumv += (i - mean(x))**2\n",
    "    return math.sqrt(sumv/(len(x)-1))\n",
    "\n",
    "def correlation_def(x, y):\n",
    "\n",
    "    scorex = []\n",
    "    scorey = []\n",
    "\n",
    "    for i in x: \n",
    "        scorex.append((i - mean(x))/sampleStandardDeviation(x)) \n",
    "\n",
    "    for j in y:\n",
    "        scorey.append((j - mean(y))/sampleStandardDeviation(y))   \n",
    "    return (sum([i*j for i,j in zip(scorex,scorey)]))/(len(x)-1)\n",
    "print (\"SPEED AND GAS MILEAGE\")\n",
    "print(\"Correlation is \",correlation_def(a,b))\n"
   ]
  },
  {
   "cell_type": "code",
   "execution_count": null,
   "metadata": {},
   "outputs": [],
   "source": []
  }
 ],
 "metadata": {
  "kernelspec": {
   "display_name": "Python 3",
   "language": "python",
   "name": "python3"
  },
  "language_info": {
   "codemirror_mode": {
    "name": "ipython",
    "version": 3
   },
   "file_extension": ".py",
   "mimetype": "text/x-python",
   "name": "python",
   "nbconvert_exporter": "python",
   "pygments_lexer": "ipython3",
   "version": "3.7.6"
  }
 },
 "nbformat": 4,
 "nbformat_minor": 4
}
